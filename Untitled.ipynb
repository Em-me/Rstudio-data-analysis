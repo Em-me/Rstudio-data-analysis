{
 "cells": [
  {
   "cell_type": "code",
   "execution_count": 1,
   "id": "5f1bed6c",
   "metadata": {},
   "outputs": [
    {
     "name": "stderr",
     "output_type": "stream",
     "text": [
      "Installing package into 'C:/Users/ADMIN/AppData/Local/R/win-library/4.3'\n",
      "(as 'lib' is unspecified)\n",
      "\n",
      "Warning message:\n",
      "\"unable to access index for repository https://cran.r-project.org/src/contrib:\n",
      "  cannot open URL 'https://cran.r-project.org/src/contrib/PACKAGES'\"\n",
      "Warning message:\n",
      "\"package 'yuima' is not available for this version of R\n",
      "\n",
      "A version of this package for your version of R might be available elsewhere,\n",
      "see the ideas at\n",
      "https://cran.r-project.org/doc/manuals/r-patched/R-admin.html#Installing-packages\"\n",
      "Warning message:\n",
      "\"unable to access index for repository https://cran.r-project.org/bin/windows/contrib/4.3:\n",
      "  cannot open URL 'https://cran.r-project.org/bin/windows/contrib/4.3/PACKAGES'\"\n"
     ]
    }
   ],
   "source": [
    "install.packages(\"yuima\")"
   ]
  },
  {
   "cell_type": "code",
   "execution_count": 2,
   "id": "136c5612",
   "metadata": {},
   "outputs": [
    {
     "name": "stderr",
     "output_type": "stream",
     "text": [
      "Installing package into 'C:/Users/ADMIN/AppData/Local/R/win-library/4.3'\n",
      "(as 'lib' is unspecified)\n",
      "\n",
      "Warning message:\n",
      "\"unable to access index for repository https://cran.r-project.org/src/contrib:\n",
      "  cannot open URL 'https://cran.r-project.org/src/contrib/PACKAGES'\"\n",
      "Warning message:\n",
      "\"package 'yuima' is not available for this version of R\n",
      "\n",
      "A version of this package for your version of R might be available elsewhere,\n",
      "see the ideas at\n",
      "https://cran.r-project.org/doc/manuals/r-patched/R-admin.html#Installing-packages\"\n",
      "Warning message:\n",
      "\"unable to access index for repository https://cran.r-project.org/bin/windows/contrib/4.3:\n",
      "  cannot open URL 'https://cran.r-project.org/bin/windows/contrib/4.3/PACKAGES'\"\n"
     ]
    }
   ],
   "source": [
    "install.packages(\"yuima\")"
   ]
  },
  {
   "cell_type": "code",
   "execution_count": 3,
   "id": "2f0c6371",
   "metadata": {},
   "outputs": [
    {
     "name": "stderr",
     "output_type": "stream",
     "text": [
      "Warning message:\n",
      "\"package 'yuima' was built under R version 4.3.1\"\n",
      "Loading required package: zoo\n",
      "\n",
      "Warning message:\n",
      "\"package 'zoo' was built under R version 4.3.1\"\n",
      "\n",
      "Attaching package: 'zoo'\n",
      "\n",
      "\n",
      "The following objects are masked from 'package:base':\n",
      "\n",
      "    as.Date, as.Date.numeric\n",
      "\n",
      "\n",
      "Loading required package: stats4\n",
      "\n",
      "Loading required package: expm\n",
      "\n",
      "Warning message:\n",
      "\"package 'expm' was built under R version 4.3.1\"\n",
      "Loading required package: Matrix\n",
      "\n",
      "Warning message:\n",
      "\"package 'Matrix' was built under R version 4.3.1\"\n",
      "\n",
      "Attaching package: 'expm'\n",
      "\n",
      "\n",
      "The following object is masked from 'package:Matrix':\n",
      "\n",
      "    expm\n",
      "\n",
      "\n",
      "Loading required package: cubature\n",
      "\n",
      "Warning message:\n",
      "\"package 'cubature' was built under R version 4.3.1\"\n",
      "Loading required package: mvtnorm\n",
      "\n",
      "Warning message:\n",
      "\"package 'mvtnorm' was built under R version 4.3.1\"\n",
      "########################################\n",
      "\n",
      "This is YUIMA Project package v.1.15.22\n",
      "\n",
      "Why don't you try yuimaGUI package?\n",
      "\n",
      "Visit: http://www.yuima-project.com\n",
      "\n",
      "########################################\n",
      "\n",
      "\n",
      "Attaching package: 'yuima'\n",
      "\n",
      "\n",
      "The following object is masked from 'package:stats':\n",
      "\n",
      "    simulate\n",
      "\n",
      "\n"
     ]
    }
   ],
   "source": [
    "library(yuima)"
   ]
  }
 ],
 "metadata": {
  "kernelspec": {
   "display_name": "R",
   "language": "R",
   "name": "ir"
  },
  "language_info": {
   "codemirror_mode": "r",
   "file_extension": ".r",
   "mimetype": "text/x-r-source",
   "name": "R",
   "pygments_lexer": "r",
   "version": "4.3.0"
  }
 },
 "nbformat": 4,
 "nbformat_minor": 5
}
